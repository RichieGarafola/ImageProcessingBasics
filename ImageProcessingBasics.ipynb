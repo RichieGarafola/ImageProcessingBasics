{
 "cells": [
  {
   "cell_type": "markdown",
   "id": "21541579",
   "metadata": {},
   "source": [
    "# Image Processing Basics with OpenCV\n",
    "This notebook demonstrates how to process image files using OpenCV.\n",
    "\n",
    "**You'll learn how to:**\n",
    "- Read, inspect, and save images\n",
    "- Toggle between color and greyscale views\n",
    "- Apply a binary mask to black out parts of an image\n",
    "\n",
    "Output images will be saved to your folder"
   ]
  },
  {
   "cell_type": "markdown",
   "id": "1ad493d5",
   "metadata": {},
   "source": [
    "## Section 1: Read, Display, and Save Image\n",
    "This section will:\n",
    "- Load an image from your folder\n",
    "- Print how many channels (e.g. RGB) and the resolution\n",
    "- Show the image in a window\n",
    "- Save a copy to the same folder\n"
   ]
  },
  {
   "cell_type": "code",
   "execution_count": 1,
   "id": "8ea2716b",
   "metadata": {},
   "outputs": [
    {
     "name": "stdout",
     "output_type": "stream",
     "text": [
      "Resolution: 225 x 225\n",
      "Color Channels: 3\n",
      "Saved image to: ./output\\section1_saved_image.png\n"
     ]
    }
   ],
   "source": [
    "import cv2\n",
    "import os\n",
    "\n",
    "# Set image path (test image provided)\n",
    "image_path = r'image-processing_color2greyscale_base.png'\n",
    "output_dir = r'./output'\n",
    "os.makedirs(output_dir, exist_ok=True)\n",
    "\n",
    "# Load image\n",
    "img = cv2.imread(image_path)\n",
    "if img is None:\n",
    "    raise ValueError('Image could not be loaded.')\n",
    "\n",
    "# Print metadata\n",
    "channels = img.shape[2] if len(img.shape) == 3 else 1\n",
    "height, width = img.shape[:2]\n",
    "print(f'Resolution: {width} x {height}')\n",
    "print(f'Color Channels: {channels}')\n",
    "\n",
    "# Display image\n",
    "cv2.imshow('Section 1: Original Image', img)\n",
    "cv2.waitKey(0)\n",
    "cv2.destroyAllWindows()\n",
    "\n",
    "# Save output\n",
    "save_path = os.path.join(output_dir, 'section1_saved_image.png')\n",
    "cv2.imwrite(save_path, img)\n",
    "print(f'Saved image to: {save_path}')"
   ]
  },
  {
   "cell_type": "markdown",
   "id": "33903638",
   "metadata": {},
   "source": [
    "## Section 2: Toggle Color and Greyscale\n",
    "This part lets you toggle between color and greyscale view using the **'g' key**.\n",
    "\n",
    "- Press `'g'` to switch modes\n",
    "- Press **any other key** to close the viewer"
   ]
  },
  {
   "cell_type": "code",
   "execution_count": 2,
   "id": "16e662ac",
   "metadata": {},
   "outputs": [
    {
     "name": "stdout",
     "output_type": "stream",
     "text": [
      "Press 'g' to toggle. Any other key to exit viewer.\n"
     ]
    }
   ],
   "source": [
    "# Reload image in color and greyscale\n",
    "img_color = cv2.imread(image_path)\n",
    "img_gray = cv2.cvtColor(img_color, cv2.COLOR_BGR2GRAY)\n",
    "\n",
    "show_color = True\n",
    "print(\"Press 'g' to toggle. Any other key to exit viewer.\")\n",
    "\n",
    "while True:\n",
    "    if show_color:\n",
    "        cv2.imshow('Section 2: Image Viewer (Color)', img_color)\n",
    "    else:\n",
    "        cv2.imshow('Section 2: Image Viewer (Greyscale)', img_gray)\n",
    "\n",
    "    key = cv2.waitKey(0) & 0xFF\n",
    "    if key == ord('g'):\n",
    "        show_color = not show_color\n",
    "    else:\n",
    "        break\n",
    "\n",
    "cv2.destroyAllWindows()"
   ]
  },
  {
   "cell_type": "markdown",
   "id": "ccb54cef",
   "metadata": {},
   "source": [
    "## Section 3: Apply a Mask to the Image\n",
    "This section will use a black-and-white mask to block out parts of the image.\n",
    "\n",
    "- Mask pixels with value **255 (white)** will become black in the base image\n",
    "- Mask pixels with value **0 (black)** leave the base image unchanged\n",
    "\n",
    "You’ll see three windows:\n",
    "- Original base image\n",
    "- Mask image\n",
    "- Masked result"
   ]
  },
  {
   "cell_type": "code",
   "execution_count": null,
   "id": "d8426618",
   "metadata": {},
   "outputs": [],
   "source": [
    "# Set paths to base and mask image\n",
    "base_img_path = r'./image-processing_masking_base.jpg'\n",
    "mask_img_path = r'./image-processing_masking_mask.png'\n",
    "\n",
    "# Load base image\n",
    "base_img = cv2.imread(base_img_path)\n",
    "if base_img is None:\n",
    "    raise ValueError('Base image could not be loaded.')\n",
    "\n",
    "# Load mask image in greyscale\n",
    "mask = cv2.imread(mask_img_path, cv2.IMREAD_GRAYSCALE)\n",
    "if mask is None:\n",
    "    raise ValueError('Mask image could not be loaded.')\n",
    "\n",
    "# Resize mask to match base image\n",
    "if mask.shape != base_img.shape[:2]:\n",
    "    mask = cv2.resize(mask, (base_img.shape[1], base_img.shape[0]))\n",
    "\n",
    "# Threshold the mask to make it binary\n",
    "_, binary_mask = cv2.threshold(mask, 128, 255, cv2.THRESH_BINARY)\n",
    "\n",
    "# Apply mask: where mask is white, make base pixel black\n",
    "masked_output = base_img.copy()\n",
    "masked_output[binary_mask == 255] = (0, 0, 0)\n",
    "\n",
    "# Show all images\n",
    "cv2.imshow('Original Base Image', base_img)\n",
    "cv2.imshow('Binary Mask Image', binary_mask)\n",
    "cv2.imshow('Masked Result', masked_output)\n",
    "cv2.waitKey(0)\n",
    "cv2.destroyAllWindows()\n",
    "\n",
    "# Resize the masked output to half size (or any scale you want)\n",
    "resized_masked = cv2.resize(masked_output, (0, 0), fx=0.5, fy=0.5)\n",
    "\n",
    "# Save output\n",
    "mask_save_path = os.path.join(output_dir, 'section3_masked_output.png')\n",
    "cv2.imwrite(mask_save_path, resized_masked)\n",
    "print(f'Masked image saved to: {mask_save_path}')"
   ]
  }
 ],
 "metadata": {
  "kernelspec": {
   "display_name": "Python [conda env:.conda-main] *",
   "language": "python",
   "name": "conda-env-.conda-main-py"
  },
  "language_info": {
   "codemirror_mode": {
    "name": "ipython",
    "version": 3
   },
   "file_extension": ".py",
   "mimetype": "text/x-python",
   "name": "python",
   "nbconvert_exporter": "python",
   "pygments_lexer": "ipython3",
   "version": "3.7.11"
  }
 },
 "nbformat": 4,
 "nbformat_minor": 5
}
